{
 "cells": [
  {
   "cell_type": "markdown",
   "metadata": {},
   "source": [
    "# Tarefa 03\n",
    "\n",
    "- Leia os enunciados com atenção\n",
    "- Saiba que pode haver mais de uma resposta correta\n",
    "- Insira novas células de código sempre que achar necessário\n",
    "- Em caso de dúvidas, procure os Tutores\n",
    "- Divirta-se :)"
   ]
  },
  {
   "cell_type": "code",
   "execution_count": 3,
   "metadata": {},
   "outputs": [],
   "source": [
    "import pandas as pd\n",
    "import requests"
   ]
  },
  {
   "cell_type": "markdown",
   "metadata": {},
   "source": [
    "####  1) Lendo de APIs\n",
    "Vimos em aula como carregar dados públicos do governo através de um API (*Application Programming Interface*). No exemplo de aula, baixamos os dados de pedidos de verificação de limites (PVL) realizados por estados, e selecionamos apenas aqueles referentes ao estado de São Paulo.\n",
    "\n",
    "1. Repita os mesmos passos feitos em aula, mas selecione os PVLs realizados por municípios no estado do Rio de Janeiro.\n",
    "2. Quais são os três *status* das solicitações mais frequentes na base? Quais são suas frequências?\n",
    "3. Construa uma nova variável que contenha o ano do **status**. Observe que ```data_status``` vem como tipo *object* no **DataFrame**. Dica: você pode usar o método ```.str``` para transformar o tipo da variável em string, em seguida um método como [**slice()**](https://pandas.pydata.org/docs/reference/api/pandas.Series.str.slice.html) ou [**split()**](https://pandas.pydata.org/pandas-docs/stable/reference/api/pandas.Series.str.split.html).\n",
    "4. Indique a frequência de cada ano do campo construído no item (3)."
   ]
  },
  {
   "cell_type": "code",
   "execution_count": 4,
   "metadata": {},
   "outputs": [],
   "source": [
    "# 1) Seu código aqui\n"
   ]
  },
  {
   "cell_type": "code",
   "execution_count": 5,
   "metadata": {},
   "outputs": [],
   "source": [
    "# 2) Seu código aqui\n"
   ]
  },
  {
   "cell_type": "code",
   "execution_count": 6,
   "metadata": {},
   "outputs": [],
   "source": [
    "# 3) Seu código aqui\n"
   ]
  },
  {
   "cell_type": "markdown",
   "metadata": {},
   "source": [
    "Resolvendo item 1 -tarefa 3 - s/ ia"
   ]
  },
  {
   "cell_type": "code",
   "execution_count": 7,
   "metadata": {},
   "outputs": [],
   "source": [
    "url = 'http://apidatalake.tesouro.gov.br/ords/sadipem/tt/pvl?uf=RJ&tipo_interessado=Estado'"
   ]
  },
  {
   "cell_type": "code",
   "execution_count": 8,
   "metadata": {},
   "outputs": [],
   "source": [
    "r = requests.get(url)"
   ]
  },
  {
   "cell_type": "code",
   "execution_count": 9,
   "metadata": {},
   "outputs": [
    {
     "data": {
      "text/plain": [
       "200"
      ]
     },
     "execution_count": 9,
     "metadata": {},
     "output_type": "execute_result"
    }
   ],
   "source": [
    "r.status_code"
   ]
  },
  {
   "cell_type": "code",
   "execution_count": 10,
   "metadata": {},
   "outputs": [],
   "source": [
    "data_json = r.json()"
   ]
  },
  {
   "cell_type": "code",
   "execution_count": 11,
   "metadata": {},
   "outputs": [
    {
     "name": "stdout",
     "output_type": "stream",
     "text": [
      "[{'id_pleito': 13364, 'tipo_interessado': 'Estado', 'interessado': 'Rio de Janeiro', 'cod_ibge': 33, 'uf': 'RJ', 'num_pvl': None, 'status': 'Encaminhado à PGFN com manifestação técnica favorável', 'num_processo': '17944.002059/2008-41', 'data_protocolo': '2009-05-14T00:00:00Z', 'tipo_operacao': 'Operação contratual externa (com garantia da União)', 'finalidade': 'Infraestrutura', 'tipo_credor': 'Instituição Financeira Internacional', 'credor': 'Banco Internacional para Reconstrução e Desenvolvimento', 'moeda': 'Dólar dos EUA', 'valor': 211700000, 'pvl_assoc_divida': 1, 'pvl_contradado_credor': 0, 'data_status': '22/05/2009'}, {'id_pleito': 10562, 'tipo_interessado': 'Estado', 'interessado': 'Rio de Janeiro', 'cod_ibge': 33, 'uf': 'RJ', 'num_pvl': None, 'status': 'Encaminhado à PGFN com manifestação técnica favorável', 'num_processo': '17944.001228/2013-92', 'data_protocolo': '2013-10-22T00:00:00Z', 'tipo_operacao': 'Operação contratual externa (com garantia da União)', 'finalidade': 'Infraestrutura', 'tipo_credor': 'Instituição Financeira Internacional', 'credor': 'Banco Internacional para Reconstrução e Desenvolvimento', 'moeda': 'Dólar dos EUA', 'valor': 500000000, 'pvl_assoc_divida': 1, 'pvl_contradado_credor': 0, 'data_status': '27/12/2013'}, {'id_pleito': 12375, 'tipo_interessado': 'Estado', 'interessado': 'Rio de Janeiro', 'cod_ibge': 33, 'uf': 'RJ', 'num_pvl': None, 'status': 'Encaminhado à PGFN com manifestação técnica favorável', 'num_processo': '17944.001671/2011-00', 'data_protocolo': '2011-10-18T00:00:00Z', 'tipo_operacao': 'Operação contratual externa (com garantia da União)', 'finalidade': 'Preservação e recuperação ambiental', 'tipo_credor': 'Instituição Financeira Internacional', 'credor': 'Banco Interamericano de Desenvolvimento', 'moeda': 'Dólar dos EUA', 'valor': 451980000, 'pvl_assoc_divida': 1, 'pvl_contradado_credor': 0, 'data_status': '27/12/2011'}, {'id_pleito': 10606, 'tipo_interessado': 'Estado', 'interessado': 'Rio de Janeiro', 'cod_ibge': 33, 'uf': 'RJ', 'num_pvl': None, 'status': 'Deferido', 'num_processo': '17944.001240/2009-11', 'data_protocolo': '2009-10-22T00:00:00Z', 'tipo_operacao': 'Operação contratual interna', 'finalidade': 'Aquisição de máquinas, equipamentos e veículos', 'tipo_credor': 'Instituição Financeira Nacional', 'credor': 'Banco do Brasil S/A', 'moeda': 'Real', 'valor': 20000000, 'pvl_assoc_divida': 1, 'pvl_contradado_credor': 0, 'data_status': '04/11/2009'}, {'id_pleito': 12410, 'tipo_interessado': 'Estado', 'interessado': 'Rio de Janeiro', 'cod_ibge': 33, 'uf': 'RJ', 'num_pvl': None, 'status': 'Encaminhado à PGFN com manifestação técnica favorável', 'num_processo': '17944.001680/2011-92', 'data_protocolo': '2012-04-16T00:00:00Z', 'tipo_operacao': 'Operação contratual externa (com garantia da União)', 'finalidade': 'Infraestrutura', 'tipo_credor': 'Instituição Financeira Internacional', 'credor': 'Banco Internacional para Reconstrução e Desenvolvimento', 'moeda': 'Dólar dos EUA', 'valor': 600000000, 'pvl_assoc_divida': 1, 'pvl_contradado_credor': 0, 'data_status': '10/07/2012'}, {'id_pleito': 9898, 'tipo_interessado': 'Estado', 'interessado': 'Rio de Janeiro', 'cod_ibge': 33, 'uf': 'RJ', 'num_pvl': None, 'status': 'Deferido', 'num_processo': '17944.001076/2010-85', 'data_protocolo': '2011-05-25T00:00:00Z', 'tipo_operacao': 'Operação contratual interna', 'finalidade': 'Saúde', 'tipo_credor': 'Instituição Financeira Nacional', 'credor': 'Banco do Brasil S/A', 'moeda': 'Real', 'valor': 132800000, 'pvl_assoc_divida': 0, 'pvl_contradado_credor': 0, 'data_status': '07/06/2011'}, {'id_pleito': 22594, 'tipo_interessado': 'Estado', 'interessado': 'Rio de Janeiro', 'cod_ibge': 33, 'uf': 'RJ', 'num_pvl': '00000.000000/2031-89', 'status': 'Arquivado por decurso de prazo', 'num_processo': '17944.000657/2016-95', 'data_protocolo': '2016-05-12T00:00:00Z', 'tipo_operacao': 'Operação contratual interna (com garantia da União)', 'finalidade': 'Infraestrutura', 'tipo_credor': 'Instituição Financeira Nacional', 'credor': 'Banco Nacional de Desenvolvimento Econômico e Social', 'moeda': 'Real', 'valor': 989210440, 'pvl_assoc_divida': 0, 'pvl_contradado_credor': 0, 'data_status': '25/10/2016'}, {'id_pleito': 7525, 'tipo_interessado': 'Estado', 'interessado': 'Rio de Janeiro', 'cod_ibge': 33, 'uf': 'RJ', 'num_pvl': None, 'status': 'Deferido', 'num_processo': '17944.000599/2009-71', 'data_protocolo': '2009-06-17T00:00:00Z', 'tipo_operacao': 'Operação contratual interna', 'finalidade': 'PAC - Saneamento - 2008', 'tipo_credor': 'Instituição Financeira Nacional', 'credor': 'Caixa Econômica Federal', 'moeda': 'Real', 'valor': 557999999.99, 'pvl_assoc_divida': 1, 'pvl_contradado_credor': 0, 'data_status': '18/06/2009'}, {'id_pleito': 12018, 'tipo_interessado': 'Estado', 'interessado': 'Rio de Janeiro', 'cod_ibge': 33, 'uf': 'RJ', 'num_pvl': None, 'status': 'Encaminhado à PGFN com manifestação técnica favorável', 'num_processo': '17944.001583/2007-13', 'data_protocolo': '2007-12-04T00:00:00Z', 'tipo_operacao': 'Operação contratual externa (com garantia da União)', 'finalidade': 'Infraestrutura', 'tipo_credor': 'Instituição Financeira Internacional', 'credor': 'Banco Internacional para Reconstrução e Desenvolvimento', 'moeda': 'Dólar dos EUA', 'valor': 54000000, 'pvl_assoc_divida': 1, 'pvl_contradado_credor': 0, 'data_status': '06/03/2008'}, {'id_pleito': 5943, 'tipo_interessado': 'Estado', 'interessado': 'Rio de Janeiro', 'cod_ibge': 33, 'uf': 'RJ', 'num_pvl': None, 'status': 'Encaminhado à PGFN com manifestação técnica favorável', 'num_processo': '17944.000240/2012-07', 'data_protocolo': '2012-04-16T00:00:00Z', 'tipo_operacao': 'Operação contratual externa (com garantia da União)', 'finalidade': 'Multissetorial', 'tipo_credor': 'Instituição Financeira Internacional', 'credor': 'Banco Interamericano de Desenvolvimento', 'moeda': 'Dólar dos EUA', 'valor': 60000000, 'pvl_assoc_divida': 1, 'pvl_contradado_credor': 0, 'data_status': '14/09/2012'}, {'id_pleito': 6660, 'tipo_interessado': 'Estado', 'interessado': 'Rio de Janeiro', 'cod_ibge': 33, 'uf': 'RJ', 'num_pvl': None, 'status': 'Deferido', 'num_processo': '17944.000403/2010-81', 'data_protocolo': '2010-05-24T00:00:00Z', 'tipo_operacao': 'Operação contratual interna', 'finalidade': 'PAC - Favelas', 'tipo_credor': 'Instituição Financeira Nacional', 'credor': 'Caixa Econômica Federal', 'moeda': 'Real', 'valor': 606046612.5, 'pvl_assoc_divida': 1, 'pvl_contradado_credor': 0, 'data_status': '06/07/2010'}, {'id_pleito': 9050, 'tipo_interessado': 'Estado', 'interessado': 'Rio de Janeiro', 'cod_ibge': 33, 'uf': 'RJ', 'num_pvl': None, 'status': 'Encaminhado à PGFN com manifestação técnica favorável', 'num_processo': '17944.000893/2010-16', 'data_protocolo': '2011-06-03T00:00:00Z', 'tipo_operacao': 'Operação contratual interna (com garantia da União)', 'finalidade': 'Infraestrutura', 'tipo_credor': 'Instituição Financeira Nacional', 'credor': 'Caixa Econômica Federal', 'moeda': 'Real', 'valor': 259138332.31, 'pvl_assoc_divida': 1, 'pvl_contradado_credor': 0, 'data_status': '04/07/2011'}, {'id_pleito': 21660, 'tipo_interessado': 'Estado', 'interessado': 'Rio de Janeiro', 'cod_ibge': 33, 'uf': 'RJ', 'num_pvl': '00000.000000/2026-68', 'status': 'Arquivado a pedido', 'num_processo': '17944.000245/2016-55', 'data_protocolo': '2016-03-11T00:00:00Z', 'tipo_operacao': 'Operação contratual interna (com garantia da União)', 'finalidade': 'Fortalecimento Institucional', 'tipo_credor': 'Instituição Financeira Nacional', 'credor': 'Banco do Brasil S/A', 'moeda': 'Real', 'valor': 1000000000, 'pvl_assoc_divida': 0, 'pvl_contradado_credor': 0, 'data_status': '16/05/2016'}, {'id_pleito': 5923, 'tipo_interessado': 'Estado', 'interessado': 'Rio de Janeiro', 'cod_ibge': 33, 'uf': 'RJ', 'num_pvl': None, 'status': 'Encaminhado à PGFN com manifestação técnica favorável', 'num_processo': '17944.000234/2012-41', 'data_protocolo': '2012-04-16T00:00:00Z', 'tipo_operacao': 'Operação contratual externa (com garantia da União)', 'finalidade': 'Infraestrutura', 'tipo_credor': 'Instituição Financeira Internacional', 'credor': 'Corporação Andina de Fomento', 'moeda': 'Dólar dos EUA', 'valor': 200000000, 'pvl_assoc_divida': 1, 'pvl_contradado_credor': 0, 'data_status': '04/10/2012'}, {'id_pleito': 13629, 'tipo_interessado': 'Estado', 'interessado': 'Rio de Janeiro', 'cod_ibge': 33, 'uf': 'RJ', 'num_pvl': None, 'status': 'Deferido', 'num_processo': '19405.000040/2002-05', 'data_protocolo': '2002-06-20T00:00:00Z', 'tipo_operacao': 'Operação contratual interna', 'finalidade': 'Aquisição de máquinas, equipamentos e veículos', 'tipo_credor': 'Instituição Financeira Nacional', 'credor': 'Banco Nacional de Desenvolvimento Econômico e Social', 'moeda': 'Real', 'valor': 43527550, 'pvl_assoc_divida': 1, 'pvl_contradado_credor': 0, 'data_status': '27/06/2002'}, {'id_pleito': 9102, 'tipo_interessado': 'Estado', 'interessado': 'Rio de Janeiro', 'cod_ibge': 33, 'uf': 'RJ', 'num_pvl': None, 'status': 'Encaminhado à PGFN com manifestação técnica favorável', 'num_processo': '17944.000903/2009-80', 'data_protocolo': '2009-07-29T00:00:00Z', 'tipo_operacao': 'Operação contratual interna (com garantia da União)', 'finalidade': 'PEF - Programa Emergencial de Financiamento dos Estados/DF', 'tipo_credor': 'Instituição Financeira Nacional', 'credor': 'Banco do Brasil S/A', 'moeda': 'Real', 'valor': 61108000, 'pvl_assoc_divida': 1, 'pvl_contradado_credor': 0, 'data_status': '06/08/2009'}, {'id_pleito': 13483, 'tipo_interessado': 'Estado', 'interessado': 'Rio de Janeiro', 'cod_ibge': 33, 'uf': 'RJ', 'num_pvl': None, 'status': 'Deferido', 'num_processo': '19405.000010/2004-52', 'data_protocolo': '2006-02-15T00:00:00Z', 'tipo_operacao': 'Operação contratual interna', 'finalidade': 'Renegociação de dívidas', 'tipo_credor': 'Instituição Financeira Nacional', 'credor': 'Banco Nacional de Desenvolvimento Econômico e Social', 'moeda': 'Real', 'valor': 847526319.24, 'pvl_assoc_divida': 1, 'pvl_contradado_credor': 0, 'data_status': '01/03/2006'}, {'id_pleito': 8528, 'tipo_interessado': 'Estado', 'interessado': 'Rio de Janeiro', 'cod_ibge': 33, 'uf': 'RJ', 'num_pvl': None, 'status': 'Deferido', 'num_processo': '17944.000793/2009-56', 'data_protocolo': '2009-07-17T00:00:00Z', 'tipo_operacao': 'Operação contratual interna', 'finalidade': 'Aquisição de terrenos, imóveis e/ou construção de instalações', 'tipo_credor': 'Instituição Financeira Nacional', 'credor': 'Banco Nacional de Desenvolvimento Econômico e Social', 'moeda': 'Real', 'valor': 157000000, 'pvl_assoc_divida': 1, 'pvl_contradado_credor': 0, 'data_status': '24/07/2009'}, {'id_pleito': 7057, 'tipo_interessado': 'Estado', 'interessado': 'Rio de Janeiro', 'cod_ibge': 33, 'uf': 'RJ', 'num_pvl': None, 'status': 'Encaminhado à PGFN com manifestação técnica favorável', 'num_processo': '17944.000487/2014-87', 'data_protocolo': '2014-04-24T00:00:00Z', 'tipo_operacao': 'Operação contratual interna (com garantia da União)', 'finalidade': 'Infraestrutura', 'tipo_credor': 'Instituição Financeira Nacional', 'credor': 'Banco Nacional de Desenvolvimento Econômico e Social', 'moeda': 'Real', 'valor': 3000000000, 'pvl_assoc_divida': 1, 'pvl_contradado_credor': 0, 'data_status': '04/07/2014'}, {'id_pleito': 7084, 'tipo_interessado': 'Estado', 'interessado': 'Rio de Janeiro', 'cod_ibge': 33, 'uf': 'RJ', 'num_pvl': None, 'status': 'Encaminhado à PGFN com manifestação técnica favorável', 'num_processo': '17944.000493/2010-19', 'data_protocolo': '2010-08-06T00:00:00Z', 'tipo_operacao': 'Operação contratual externa (com garantia da União)', 'finalidade': 'Fortalecimento Institucional', 'tipo_credor': 'Instituição Financeira Internacional', 'credor': 'Banco Internacional para Reconstrução e Desenvolvimento', 'moeda': 'Dólar dos EUA', 'valor': 18673000, 'pvl_assoc_divida': 1, 'pvl_contradado_credor': 0, 'data_status': '19/08/2010'}, {'id_pleito': 6833, 'tipo_interessado': 'Estado', 'interessado': 'Rio de Janeiro', 'cod_ibge': 33, 'uf': 'RJ', 'num_pvl': None, 'status': 'Deferido', 'num_processo': '17944.000440/2008-75', 'data_protocolo': '2008-04-11T00:00:00Z', 'tipo_operacao': 'Operação contratual interna', 'finalidade': 'Multissetorial', 'tipo_credor': 'Instituição Financeira Nacional', 'credor': 'Banco Nacional de Desenvolvimento Econômico e Social', 'moeda': 'Real', 'valor': 15000000, 'pvl_assoc_divida': 1, 'pvl_contradado_credor': 0, 'data_status': '18/04/2008'}, {'id_pleito': 5918, 'tipo_interessado': 'Estado', 'interessado': 'Rio de Janeiro', 'cod_ibge': 33, 'uf': 'RJ', 'num_pvl': None, 'status': 'Encaminhado à PGFN com manifestação técnica favorável', 'num_processo': '17944.000233/2012-05', 'data_protocolo': '2012-04-16T00:00:00Z', 'tipo_operacao': 'Operação contratual externa (com garantia da União)', 'finalidade': 'Infraestrutura', 'tipo_credor': 'Instituição Financeira Internacional', 'credor': 'Corporação Andina de Fomento', 'moeda': 'Dólar dos EUA', 'valor': 319675000, 'pvl_assoc_divida': 1, 'pvl_contradado_credor': 0, 'data_status': '11/03/2016'}, {'id_pleito': 13271, 'tipo_interessado': 'Estado', 'interessado': 'Rio de Janeiro', 'cod_ibge': 33, 'uf': 'RJ', 'num_pvl': None, 'status': 'Encaminhado à PGFN com manifestação técnica favorável', 'num_processo': '17944.001999/2008-12', 'data_protocolo': '2009-07-01T00:00:00Z', 'tipo_operacao': 'Operação contratual externa (com garantia da União)', 'finalidade': 'Desenvolvimento rural', 'tipo_credor': 'Instituição Financeira Internacional', 'credor': 'Banco Internacional para Reconstrução e Desenvolvimento', 'moeda': 'Dólar dos EUA', 'valor': 39500000, 'pvl_assoc_divida': 1, 'pvl_contradado_credor': 0, 'data_status': '07/07/2009'}, {'id_pleito': 10890, 'tipo_interessado': 'Estado', 'interessado': 'Rio de Janeiro', 'cod_ibge': 33, 'uf': 'RJ', 'num_pvl': None, 'status': 'Encaminhado à PGFN com manifestação técnica favorável', 'num_processo': '17944.001308/2012-67', 'data_protocolo': '2012-10-17T00:00:00Z', 'tipo_operacao': 'Operação contratual interna (com garantia da União)', 'finalidade': 'Proinveste', 'tipo_credor': 'Instituição Financeira Nacional', 'credor': 'Banco do Brasil S/A', 'moeda': 'Real', 'valor': 940956773.22, 'pvl_assoc_divida': 1, 'pvl_contradado_credor': 0, 'data_status': '20/11/2012'}, {'id_pleito': 5645, 'tipo_interessado': 'Estado', 'interessado': 'Rio de Janeiro', 'cod_ibge': 33, 'uf': 'RJ', 'num_pvl': None, 'status': 'Encaminhado à PGFN com manifestação técnica favorável', 'num_processo': '17944.000161/2013-79', 'data_protocolo': '2013-04-08T00:00:00Z', 'tipo_operacao': 'Operação contratual interna (com garantia da União)', 'finalidade': 'Infraestrutura', 'tipo_credor': 'Instituição Financeira Nacional', 'credor': 'Banco Nacional de Desenvolvimento Econômico e Social', 'moeda': 'Real', 'valor': 3031405000, 'pvl_assoc_divida': 1, 'pvl_contradado_credor': 0, 'data_status': '06/05/2013'}, {'id_pleito': 7255, 'tipo_interessado': 'Estado', 'interessado': 'Rio de Janeiro', 'cod_ibge': 33, 'uf': 'RJ', 'num_pvl': None, 'status': 'Encaminhado à PGFN com manifestação técnica favorável', 'num_processo': '17944.000532/2012-31', 'data_protocolo': '2012-05-24T00:00:00Z', 'tipo_operacao': 'Operação contratual interna (com garantia da União)', 'finalidade': 'Infraestrutura', 'tipo_credor': 'Instituição Financeira Nacional', 'credor': 'Banco do Brasil S/A', 'moeda': 'Real', 'valor': 3645563000, 'pvl_assoc_divida': 1, 'pvl_contradado_credor': 0, 'data_status': '29/05/2012'}, {'id_pleito': 13560, 'tipo_interessado': 'Estado', 'interessado': 'Rio de Janeiro', 'cod_ibge': 33, 'uf': 'RJ', 'num_pvl': None, 'status': 'Deferido', 'num_processo': '19405.000026/2002-01', 'data_protocolo': '2002-06-25T00:00:00Z', 'tipo_operacao': 'Operação contratual interna', 'finalidade': 'Infraestrutura', 'tipo_credor': 'Instituição Financeira Nacional', 'credor': 'Banco Nacional de Desenvolvimento Econômico e Social', 'moeda': 'Real', 'valor': 49942, 'pvl_assoc_divida': 1, 'pvl_contradado_credor': 0, 'data_status': '27/06/2002'}, {'id_pleito': 5630, 'tipo_interessado': 'Estado', 'interessado': 'Rio de Janeiro', 'cod_ibge': 33, 'uf': 'RJ', 'num_pvl': None, 'status': 'Encaminhado à PGFN com manifestação técnica favorável', 'num_processo': '17944.000158/2013-55', 'data_protocolo': '2013-10-22T00:00:00Z', 'tipo_operacao': 'Operação contratual externa (com garantia da União)', 'finalidade': 'Fortalecimento Institucional', 'tipo_credor': 'Instituição Financeira Internacional', 'credor': 'Banco Internacional para Reconstrução e Desenvolvimento', 'moeda': 'Dólar dos EUA', 'valor': 48000000, 'pvl_assoc_divida': 1, 'pvl_contradado_credor': 0, 'data_status': '21/11/2013'}, {'id_pleito': 5635, 'tipo_interessado': 'Estado', 'interessado': 'Rio de Janeiro', 'cod_ibge': 33, 'uf': 'RJ', 'num_pvl': None, 'status': 'Encaminhado à PGFN com manifestação técnica favorável', 'num_processo': '17944.000159/2013-08', 'data_protocolo': '2013-04-08T00:00:00Z', 'tipo_operacao': 'Operação contratual interna (com garantia da União)', 'finalidade': 'Infraestrutura', 'tipo_credor': 'Instituição Financeira Nacional', 'credor': 'Banco do Brasil S/A', 'moeda': 'Real', 'valor': 3135800000, 'pvl_assoc_divida': 1, 'pvl_contradado_credor': 0, 'data_status': '06/05/2013'}, {'id_pleito': 5640, 'tipo_interessado': 'Estado', 'interessado': 'Rio de Janeiro', 'cod_ibge': 33, 'uf': 'RJ', 'num_pvl': None, 'status': 'Arquivado a pedido', 'num_processo': '17944.000160/2013-24', 'data_protocolo': '2013-03-18T00:00:00Z', 'tipo_operacao': 'Operação contratual externa (com garantia da União)', 'finalidade': 'Infraestrutura', 'tipo_credor': 'Instituição Financeira Internacional', 'credor': 'Bank of America Merrill Lynch', 'moeda': 'Dólar dos EUA', 'valor': 716417910.45, 'pvl_assoc_divida': 0, 'pvl_contradado_credor': 0, 'data_status': '29/07/2013'}, {'id_pleito': 10002, 'tipo_interessado': 'Estado', 'interessado': 'Rio de Janeiro', 'cod_ibge': 33, 'uf': 'RJ', 'num_pvl': None, 'status': 'Encaminhado à PGFN com manifestação técnica favorável', 'num_processo': '17944.001097/2009-67', 'data_protocolo': '2009-09-09T00:00:00Z', 'tipo_operacao': 'Operação contratual externa (com garantia da União)', 'finalidade': 'Profisco', 'tipo_credor': 'Instituição Financeira Internacional', 'credor': 'Banco Interamericano de Desenvolvimento', 'moeda': 'Dólar dos EUA', 'valor': 19759050, 'pvl_assoc_divida': 1, 'pvl_contradado_credor': 0, 'data_status': '28/09/2009'}, {'id_pleito': 8556, 'tipo_interessado': 'Estado', 'interessado': 'Rio de Janeiro', 'cod_ibge': 33, 'uf': 'RJ', 'num_pvl': None, 'status': 'Encaminhado à PGFN com manifestação técnica favorável', 'num_processo': '17944.000797/2010-78', 'data_protocolo': '2011-06-30T00:00:00Z', 'tipo_operacao': 'Operação contratual externa (com garantia da União)', 'finalidade': 'Multissetorial', 'tipo_credor': 'Instituição Financeira Internacional', 'credor': 'Banco Interamericano de Desenvolvimento', 'moeda': 'Dólar dos EUA', 'valor': 112000000, 'pvl_assoc_divida': 1, 'pvl_contradado_credor': 0, 'data_status': '04/07/2011'}, {'id_pleito': 7080, 'tipo_interessado': 'Estado', 'interessado': 'Rio de Janeiro', 'cod_ibge': 33, 'uf': 'RJ', 'num_pvl': None, 'status': 'Encaminhado à PGFN com manifestação técnica favorável', 'num_processo': '17944.000492/2012-28', 'data_protocolo': '2012-04-16T00:00:00Z', 'tipo_operacao': 'Operação contratual externa (com garantia da União)', 'finalidade': 'Multissetorial', 'tipo_credor': 'Instituição Financeira Internacional', 'credor': 'Banco Internacional para Reconstrução e Desenvolvimento', 'moeda': 'Dólar dos EUA', 'valor': 300000000, 'pvl_assoc_divida': 1, 'pvl_contradado_credor': 0, 'data_status': '03/09/2012'}, {'id_pleito': 5516, 'tipo_interessado': 'Estado', 'interessado': 'Rio de Janeiro', 'cod_ibge': 33, 'uf': 'RJ', 'num_pvl': None, 'status': 'Encaminhado à PGFN com manifestação técnica favorável', 'num_processo': '17944.000131/2011-09', 'data_protocolo': '2011-06-30T00:00:00Z', 'tipo_operacao': 'Operação contratual externa (com garantia da União)', 'finalidade': 'Desenvolvimento sustentável', 'tipo_credor': 'Instituição Financeira Internacional', 'credor': 'Banco Internacional para Reconstrução e Desenvolvimento', 'moeda': 'Dólar dos EUA', 'valor': 485000000, 'pvl_assoc_divida': 1, 'pvl_contradado_credor': 0, 'data_status': '04/07/2011'}, {'id_pleito': 21388, 'tipo_interessado': 'Estado', 'interessado': 'Rio de Janeiro', 'cod_ibge': 33, 'uf': 'RJ', 'num_pvl': '00000.000000/2024-66', 'status': 'Encaminhado à PGFN com manifestação técnica favorável', 'num_processo': '17944.000158/2016-06', 'data_protocolo': '2016-02-19T00:00:00Z', 'tipo_operacao': 'Operação contratual interna (com garantia da União)', 'finalidade': 'Infraestrutura', 'tipo_credor': 'Instituição Financeira Nacional', 'credor': 'Banco Nacional de Desenvolvimento Econômico e Social', 'moeda': 'Real', 'valor': 444811123.92, 'pvl_assoc_divida': 1, 'pvl_contradado_credor': 0, 'data_status': '26/02/2016'}, {'id_pleito': 9750, 'tipo_interessado': 'Estado', 'interessado': 'Rio de Janeiro', 'cod_ibge': 33, 'uf': 'RJ', 'num_pvl': None, 'status': 'Deferido', 'num_processo': '17944.001046/2006-92', 'data_protocolo': '2006-07-07T00:00:00Z', 'tipo_operacao': 'Operação contratual interna', 'finalidade': 'Infraestrutura', 'tipo_credor': 'Instituição Financeira Nacional', 'credor': 'Banco Nacional de Desenvolvimento Econômico e Social', 'moeda': 'Real', 'valor': 305737280, 'pvl_assoc_divida': 1, 'pvl_contradado_credor': 0, 'data_status': '13/07/2006'}, {'id_pleito': 10673, 'tipo_interessado': 'Estado', 'interessado': 'Rio de Janeiro', 'cod_ibge': 33, 'uf': 'RJ', 'num_pvl': None, 'status': 'Encaminhado à PGFN com manifestação técnica favorável', 'num_processo': '17944.001256/2010-67', 'data_protocolo': '2011-06-03T00:00:00Z', 'tipo_operacao': 'Operação contratual interna (com garantia da União)', 'finalidade': 'PAC - Copa Estádios', 'tipo_credor': 'Instituição Financeira Nacional', 'credor': 'Banco Nacional de Desenvolvimento Econômico e Social', 'moeda': 'Real', 'valor': 400000000, 'pvl_assoc_divida': 1, 'pvl_contradado_credor': 0, 'data_status': '04/07/2011'}, {'id_pleito': 13624, 'tipo_interessado': 'Estado', 'interessado': 'Rio de Janeiro', 'cod_ibge': 33, 'uf': 'RJ', 'num_pvl': None, 'status': 'Deferido', 'num_processo': '19405.000039/2002-72', 'data_protocolo': '2002-06-20T00:00:00Z', 'tipo_operacao': 'Operação contratual interna', 'finalidade': 'Infraestrutura', 'tipo_credor': 'Instituição Financeira Nacional', 'credor': 'Banco Nacional de Desenvolvimento Econômico e Social', 'moeda': 'Real', 'valor': 67482400, 'pvl_assoc_divida': 1, 'pvl_contradado_credor': 0, 'data_status': '27/06/2002'}, {'id_pleito': 11306, 'tipo_interessado': 'Estado', 'interessado': 'Rio de Janeiro', 'cod_ibge': 33, 'uf': 'RJ', 'num_pvl': None, 'status': 'Encaminhado à PGFN com manifestação técnica favorável', 'num_processo': '17944.001408/2009-98', 'data_protocolo': '2009-11-23T00:00:00Z', 'tipo_operacao': 'Operação contratual externa (com garantia da União)', 'finalidade': 'Fortalecimento Institucional', 'tipo_credor': 'Instituição Financeira Internacional', 'credor': 'Banco Internacional para Reconstrução e Desenvolvimento', 'moeda': 'Dólar dos EUA', 'valor': 485000000, 'pvl_assoc_divida': 1, 'pvl_contradado_credor': 0, 'data_status': '25/11/2009'}, {'id_pleito': 7085, 'tipo_interessado': 'Estado', 'interessado': 'Rio de Janeiro', 'cod_ibge': 33, 'uf': 'RJ', 'num_pvl': None, 'status': 'Encaminhado à PGFN com manifestação técnica favorável', 'num_processo': '17944.000493/2012-72', 'data_protocolo': '2012-04-16T00:00:00Z', 'tipo_operacao': 'Operação contratual externa (com garantia da União)', 'finalidade': 'Infraestrutura', 'tipo_credor': 'Instituição Financeira Internacional', 'credor': 'Corporação Andina de Fomento', 'moeda': 'Dólar dos EUA', 'valor': 120666000, 'pvl_assoc_divida': 1, 'pvl_contradado_credor': 0, 'data_status': '04/10/2012'}, {'id_pleito': 7187, 'tipo_interessado': 'Estado', 'interessado': 'Rio de Janeiro', 'cod_ibge': 33, 'uf': 'RJ', 'num_pvl': None, 'status': 'Encaminhado à PGFN com manifestação técnica favorável', 'num_processo': '17944.000517/2012-93', 'data_protocolo': '2012-04-16T00:00:00Z', 'tipo_operacao': 'Operação contratual externa (com garantia da União)', 'finalidade': 'Infraestrutura', 'tipo_credor': 'Instituição Financeira Internacional', 'credor': 'Agência Francesa de Desenvolvimento', 'moeda': 'Dólar dos EUA', 'valor': 394500000, 'pvl_assoc_divida': 1, 'pvl_contradado_credor': 0, 'data_status': '28/08/2012'}, {'id_pleito': 5933, 'tipo_interessado': 'Estado', 'interessado': 'Rio de Janeiro', 'cod_ibge': 33, 'uf': 'RJ', 'num_pvl': None, 'status': 'Encaminhado à PGFN com manifestação técnica favorável', 'num_processo': '17944.000237/2012-85', 'data_protocolo': '2012-04-16T00:00:00Z', 'tipo_operacao': 'Operação contratual externa (com garantia da União)', 'finalidade': 'Infraestrutura', 'tipo_credor': 'Instituição Financeira Internacional', 'credor': 'Corporação Andina de Fomento', 'moeda': 'Dólar dos EUA', 'valor': 100000000, 'pvl_assoc_divida': 1, 'pvl_contradado_credor': 0, 'data_status': '10/07/2012'}, {'id_pleito': 5952, 'tipo_interessado': 'Estado', 'interessado': 'Rio de Janeiro', 'cod_ibge': 33, 'uf': 'RJ', 'num_pvl': None, 'status': 'Deferido', 'num_processo': '17944.000243/2012-32', 'data_protocolo': '2012-04-16T00:00:00Z', 'tipo_operacao': 'Operação contratual interna', 'finalidade': 'Infraestrutura', 'tipo_credor': 'Instituição Financeira Nacional', 'credor': 'Banco Nacional de Desenvolvimento Econômico e Social', 'moeda': 'Real', 'valor': 157954512.78, 'pvl_assoc_divida': 1, 'pvl_contradado_credor': 0, 'data_status': '14/05/2012'}, {'id_pleito': 9042, 'tipo_interessado': 'Estado', 'interessado': 'Rio de Janeiro', 'cod_ibge': 33, 'uf': 'RJ', 'num_pvl': None, 'status': 'Arquivado a pedido', 'num_processo': '17944.000891/2013-70', 'data_protocolo': '2013-09-20T00:00:00Z', 'tipo_operacao': 'Operação contratual interna (com garantia da União)', 'finalidade': 'Infraestrutura', 'tipo_credor': 'Instituição Financeira Nacional', 'credor': 'Banco Itaú BBA S.A.', 'moeda': 'Real', 'valor': 400000000, 'pvl_assoc_divida': 0, 'pvl_contradado_credor': 0, 'data_status': '05/02/2014'}, {'id_pleito': 11961, 'tipo_interessado': 'Estado', 'interessado': 'Rio de Janeiro', 'cod_ibge': 33, 'uf': 'RJ', 'num_pvl': None, 'status': 'Encaminhado à PGFN com manifestação técnica favorável', 'num_processo': '17944.001569/2009-81', 'data_protocolo': '2009-12-04T00:00:00Z', 'tipo_operacao': 'Operação contratual interna (com garantia da União)', 'finalidade': 'PEF - Programa Emergencial de Financiamento dos Estados/DF 2', 'tipo_credor': 'Instituição Financeira Nacional', 'credor': 'Banco do Brasil S/A', 'moeda': 'Real', 'valor': 91662000, 'pvl_assoc_divida': 1, 'pvl_contradado_credor': 0, 'data_status': '09/12/2009'}, {'id_pleito': 10849, 'tipo_interessado': 'Estado', 'interessado': 'Rio de Janeiro', 'cod_ibge': 33, 'uf': 'RJ', 'num_pvl': None, 'status': 'Encaminhado à PGFN com manifestação técnica favorável', 'num_processo': '17944.001300/2012-09', 'data_protocolo': '2013-03-04T00:00:00Z', 'tipo_operacao': 'Operação contratual interna (com garantia da União)', 'finalidade': 'Multissetorial', 'tipo_credor': 'Instituição Financeira Nacional', 'credor': 'Caixa Econômica Federal', 'moeda': 'Real', 'valor': 1199871427, 'pvl_assoc_divida': 1, 'pvl_contradado_credor': 0, 'data_status': '01/04/2013'}, {'id_pleito': 10561, 'tipo_interessado': 'Estado', 'interessado': 'Rio de Janeiro', 'cod_ibge': 33, 'uf': 'RJ', 'num_pvl': None, 'status': 'Encaminhado à PGFN com manifestação técnica favorável', 'num_processo': '17944.001228/2011-21', 'data_protocolo': '2012-04-18T00:00:00Z', 'tipo_operacao': 'Operação contratual interna (com garantia da União)', 'finalidade': 'PAC 2 - Saneamento', 'tipo_credor': 'Instituição Financeira Nacional', 'credor': 'Caixa Econômica Federal', 'moeda': 'Real', 'valor': 415372248.98, 'pvl_assoc_divida': 1, 'pvl_contradado_credor': 0, 'data_status': '02/07/2012'}, {'id_pleito': 7150, 'tipo_interessado': 'Estado', 'interessado': 'Rio de Janeiro', 'cod_ibge': 33, 'uf': 'RJ', 'num_pvl': None, 'status': 'Encaminhado à PGFN com manifestação técnica favorável', 'num_processo': '17944.000508/2012-01', 'data_protocolo': '2013-03-04T00:00:00Z', 'tipo_operacao': 'Operação contratual externa (com garantia da União)', 'finalidade': 'Desenvolvimento rural', 'tipo_credor': 'Instituição Financeira Internacional', 'credor': 'Banco Internacional para Reconstrução e Desenvolvimento', 'moeda': 'Dólar dos EUA', 'valor': 100000000, 'pvl_assoc_divida': 1, 'pvl_contradado_credor': 0, 'data_status': '28/03/2013'}, {'id_pleito': 13634, 'tipo_interessado': 'Estado', 'interessado': 'Rio de Janeiro', 'cod_ibge': 33, 'uf': 'RJ', 'num_pvl': None, 'status': 'Deferido', 'num_processo': '19405.000041/2002-41', 'data_protocolo': '2002-06-20T00:00:00Z', 'tipo_operacao': 'Operação contratual interna', 'finalidade': 'Aquisição de máquinas, equipamentos e veículos', 'tipo_credor': 'Instituição Financeira Nacional', 'credor': 'Banco Nacional de Desenvolvimento Econômico e Social', 'moeda': 'Real', 'valor': 60159550, 'pvl_assoc_divida': 0, 'pvl_contradado_credor': 0, 'data_status': '27/06/2002'}, {'id_pleito': 4997, 'tipo_interessado': 'Estado', 'interessado': 'Rio de Janeiro', 'cod_ibge': 33, 'uf': 'RJ', 'num_pvl': None, 'status': 'Deferido', 'num_processo': '17944.000020/2010-11', 'data_protocolo': '2010-04-19T00:00:00Z', 'tipo_operacao': 'Operação contratual interna', 'finalidade': 'PMAE', 'tipo_credor': 'Instituição Financeira Nacional', 'credor': 'Banco Nacional de Desenvolvimento Econômico e Social', 'moeda': 'Real', 'valor': 9982000, 'pvl_assoc_divida': 1, 'pvl_contradado_credor': 0, 'data_status': '20/04/2010'}, {'id_pleito': 7129, 'tipo_interessado': 'Estado', 'interessado': 'Rio de Janeiro', 'cod_ibge': 33, 'uf': 'RJ', 'num_pvl': None, 'status': 'Encaminhado à PGFN com manifestação técnica favorável', 'num_processo': '17944.000504/2014-86', 'data_protocolo': '2014-04-02T00:00:00Z', 'tipo_operacao': 'Operação contratual interna (com garantia da União)', 'finalidade': 'Infraestrutura', 'tipo_credor': 'Instituição Financeira Nacional', 'credor': 'Banco BTG Pactual S.A.', 'moeda': 'Real', 'valor': 450000000, 'pvl_assoc_divida': 1, 'pvl_contradado_credor': 0, 'data_status': '01/09/2014'}, {'id_pleito': 7141, 'tipo_interessado': 'Estado', 'interessado': 'Rio de Janeiro', 'cod_ibge': 33, 'uf': 'RJ', 'num_pvl': None, 'status': 'Encaminhado à PGFN com manifestação técnica favorável', 'num_processo': '17944.000506/2014-75', 'data_protocolo': '2014-04-02T00:00:00Z', 'tipo_operacao': 'Operação contratual interna (com garantia da União)', 'finalidade': 'Desenvolvimento sustentável', 'tipo_credor': 'Instituição Financeira Nacional', 'credor': 'Banco de Investimentos Credit Suisse (Brasil) S.A.', 'moeda': 'Real', 'valor': 600000000, 'pvl_assoc_divida': 1, 'pvl_contradado_credor': 0, 'data_status': '01/09/2014'}]\n"
     ]
    }
   ],
   "source": [
    "print(data_json['items'])"
   ]
  },
  {
   "cell_type": "markdown",
   "metadata": {},
   "source": [
    "fim letra a - item 1 - tarefa 3"
   ]
  },
  {
   "cell_type": "markdown",
   "metadata": {},
   "source": [
    "Resolvendo item 2 - exercício 1 - tarefa 3\n",
    "2. Quais são os três status das solicitações mais frequentes na base? Quais são suas frequências?"
   ]
  },
  {
   "cell_type": "code",
   "execution_count": 12,
   "metadata": {},
   "outputs": [
    {
     "name": "stdout",
     "output_type": "stream",
     "text": [
      "Top 3 status mais frequentes e suas frequências:\n",
      "status\n",
      "Encaminhado à PGFN com manifestação técnica favorável    34\n",
      "Deferido                                                 14\n",
      "Arquivado a pedido                                        3\n",
      "Name: count, dtype: int64\n"
     ]
    }
   ],
   "source": [
    "import pandas as pd  # importa o pandas para trabalhar com DataFrames\n",
    "\n",
    "# 1) Transformar a lista de dicionários em um DataFrame\n",
    "df = pd.DataFrame(data_json['items'])\n",
    "# Agora df é uma tabela com colunas (id_pleito, tipo_interessado, status, etc.)\n",
    "\n",
    "# 2) Contar a frequência de cada valor na coluna 'status'\n",
    "status_counts = df['status'].value_counts()\n",
    "# Isso retorna uma Series com os valores de status e o número de ocorrências de cada um\n",
    "\n",
    "# 3) Selecionar os três mais frequentes\n",
    "top3_status = status_counts.head(3)\n",
    "# head(3) pega apenas os 3 primeiros (os mais comuns)\n",
    "\n",
    "# 4) Mostrar o resultado\n",
    "print(\"Top 3 status mais frequentes e suas frequências:\")\n",
    "print(top3_status)\n"
   ]
  },
  {
   "cell_type": "markdown",
   "metadata": {},
   "source": [
    "fim item 2 - exercicio 1 - tarefa 3"
   ]
  },
  {
   "cell_type": "markdown",
   "metadata": {},
   "source": [
    "Resolvendo item 3 - exercicio 1 - tarefa 3\n",
    "\n",
    "3.Construa uma nova variável que contenha o ano do status. Observe que data_status vem como tipo object no DataFrame. Dica: você pode usar o método .str para transformar o tipo da variável em string, em seguida um método como slice() ou split()."
   ]
  },
  {
   "cell_type": "code",
   "execution_count": 13,
   "metadata": {},
   "outputs": [
    {
     "name": "stdout",
     "output_type": "stream",
     "text": [
      "Frequência de cada ano de data_status:\n",
      "ano_status\n",
      "01/0    4\n",
      "02/0    1\n",
      "03/0    1\n",
      "04/0    5\n",
      "04/1    3\n",
      "05/0    1\n",
      "06/0    5\n",
      "07/0    2\n",
      "09/1    1\n",
      "10/0    2\n",
      "11/0    1\n",
      "13/0    1\n",
      "14/0    2\n",
      "16/0    1\n",
      "18/0    2\n",
      "19/0    1\n",
      "20/0    1\n",
      "20/1    1\n",
      "21/1    1\n",
      "22/0    1\n",
      "24/0    1\n",
      "25/1    2\n",
      "26/0    1\n",
      "27/0    4\n",
      "27/1    2\n",
      "28/0    3\n",
      "29/0    2\n",
      "Name: count, dtype: int64\n"
     ]
    }
   ],
   "source": [
    "# 1) Garantir que a coluna 'data_status' está no formato string\n",
    "df['data_status'] = df['data_status'].astype(str)\n",
    "\n",
    "# 2) Extrair apenas o ano (primeiros 4 caracteres da string)\n",
    "df['ano_status'] = df['data_status'].str.slice(0, 4)\n",
    "# Alternativa usando split: df['ano_status'] = df['data_status'].str.split('-').str[0]\n",
    "\n",
    "# 3) Contar quantas ocorrências existem para cada ano\n",
    "ano_counts = df['ano_status'].value_counts().sort_index()\n",
    "# sort_index() ordena pelos anos em ordem crescente\n",
    "\n",
    "# 4) Mostrar o resultado\n",
    "print(\"Frequência de cada ano de data_status:\")\n",
    "print(ano_counts)\n"
   ]
  },
  {
   "cell_type": "code",
   "execution_count": 14,
   "metadata": {},
   "outputs": [
    {
     "ename": "SyntaxError",
     "evalue": "invalid decimal literal (2204319571.py, line 2)",
     "output_type": "error",
     "traceback": [
      "\u001b[1;36m  Cell \u001b[1;32mIn[14], line 2\u001b[1;36m\u001b[0m\n\u001b[1;33m    4.Indique a frequência de cada ano do campo construído no item (3).\u001b[0m\n\u001b[1;37m     ^\u001b[0m\n\u001b[1;31mSyntaxError\u001b[0m\u001b[1;31m:\u001b[0m invalid decimal literal\n"
     ]
    }
   ],
   "source": [
    "Resolvendo item 4 - exercicio 1 - tarefa 3\n",
    "4.Indique a frequência de cada ano do campo construído no item (3)."
   ]
  },
  {
   "cell_type": "markdown",
   "metadata": {},
   "source": [
    "item 4 em grafico"
   ]
  },
  {
   "cell_type": "code",
   "execution_count": null,
   "metadata": {},
   "outputs": [],
   "source": [
    "import matplotlib.pyplot as plt  # biblioteca para gráficos\n",
    "\n",
    "# Usamos a Series 'ano_counts' do item 3\n",
    "print(\"Frequência de cada ano de data_status:\")\n",
    "print(ano_counts)\n",
    "\n",
    "# Criar um gráfico de barras para visualizar melhor\n",
    "plt.figure(figsize=(10, 5))  # tamanho da figura\n",
    "ano_counts.plot(kind='bar')\n",
    "\n",
    "plt.title('Frequência de Solicitações por Ano', fontsize=14)\n",
    "plt.xlabel('Ano do Status', fontsize=12)\n",
    "plt.ylabel('Número de Solicitações', fontsize=12)\n",
    "plt.xticks(rotation=45)  # rotaciona os rótulos do eixo x\n",
    "plt.grid(axis='y', linestyle='--', alpha=0.7)\n",
    "\n",
    "plt.show()\n"
   ]
  },
  {
   "cell_type": "markdown",
   "metadata": {},
   "source": [
    "item 4 em texto opcional grafico"
   ]
  },
  {
   "cell_type": "code",
   "execution_count": null,
   "metadata": {},
   "outputs": [],
   "source": [
    "# Frequência de cada ano em formato de texto\n",
    "print(\"📅 Frequência de solicitações por ano:\\n\")\n",
    "for ano, freq in ano_counts.items():\n",
    "    print(f\"🔹 No ano de {ano}, houve {freq} solicitações registradas.\")\n",
    "\n",
    "# (Opcional) Gráfico de barras para complementar a análise\n",
    "import matplotlib.pyplot as plt\n",
    "\n",
    "plt.figure(figsize=(10, 5))\n",
    "ano_counts.plot(kind='bar')\n",
    "\n",
    "plt.title('Frequência de Solicitações por Ano', fontsize=14)\n",
    "plt.xlabel('Ano do Status', fontsize=12)\n",
    "plt.ylabel('Número de Solicitações', fontsize=12)\n",
    "plt.xticks(rotation=45)\n",
    "plt.grid(axis='y', linestyle='--', alpha=0.7)\n",
    "\n",
    "plt.show()\n"
   ]
  },
  {
   "cell_type": "markdown",
   "metadata": {},
   "source": [
    "item 4 em texto"
   ]
  },
  {
   "cell_type": "code",
   "execution_count": null,
   "metadata": {},
   "outputs": [],
   "source": [
    "# Frequência de cada ano em formato de texto\n",
    "print(\"📅 Frequência de solicitações por ano:\\n\")\n",
    "for ano, freq in ano_counts.items():\n",
    "    if freq == 1:\n",
    "        print(f\"🔹 No ano de {ano}, houve {freq} solicitação registrada.\")\n",
    "    else:\n",
    "        print(f\"🔹 No ano de {ano}, houve {freq} solicitações registradas.\")\n"
   ]
  },
  {
   "cell_type": "markdown",
   "metadata": {},
   "source": [
    "TAREFA 3 ITENS 2,3 E 4 NO MESMO ARQUIVO"
   ]
  },
  {
   "cell_type": "code",
   "execution_count": 15,
   "metadata": {},
   "outputs": [
    {
     "name": "stdout",
     "output_type": "stream",
     "text": [
      "✅ ITEM 2 – Top 3 status mais frequentes:\n",
      "\n",
      "🔹 Status: 'Encaminhado à PGFN com manifestação técnica favorável' → 34 ocorrências\n",
      "🔹 Status: 'Deferido' → 14 ocorrências\n",
      "🔹 Status: 'Arquivado a pedido' → 3 ocorrências\n",
      "\n",
      "==================================================\n",
      "\n",
      "✅ ITEM 3 – Coluna 'ano_status' criada com sucesso!\n",
      "Visualização das primeiras linhas do DataFrame:\n",
      "  data_status ano_status\n",
      "0  22/05/2009       22/0\n",
      "1  27/12/2013       27/1\n",
      "2  27/12/2011       27/1\n",
      "3  04/11/2009       04/1\n",
      "4  10/07/2012       10/0\n",
      "\n",
      "==================================================\n",
      "\n",
      "✅ ITEM 4 – Frequência de solicitações por ano:\n",
      "\n",
      "🔹 No ano de 01/0, houve 4 solicitações registradas.\n",
      "🔹 No ano de 02/0, houve 1 solicitação registrada.\n",
      "🔹 No ano de 03/0, houve 1 solicitação registrada.\n",
      "🔹 No ano de 04/0, houve 5 solicitações registradas.\n",
      "🔹 No ano de 04/1, houve 3 solicitações registradas.\n",
      "🔹 No ano de 05/0, houve 1 solicitação registrada.\n",
      "🔹 No ano de 06/0, houve 5 solicitações registradas.\n",
      "🔹 No ano de 07/0, houve 2 solicitações registradas.\n",
      "🔹 No ano de 09/1, houve 1 solicitação registrada.\n",
      "🔹 No ano de 10/0, houve 2 solicitações registradas.\n",
      "🔹 No ano de 11/0, houve 1 solicitação registrada.\n",
      "🔹 No ano de 13/0, houve 1 solicitação registrada.\n",
      "🔹 No ano de 14/0, houve 2 solicitações registradas.\n",
      "🔹 No ano de 16/0, houve 1 solicitação registrada.\n",
      "🔹 No ano de 18/0, houve 2 solicitações registradas.\n",
      "🔹 No ano de 19/0, houve 1 solicitação registrada.\n",
      "🔹 No ano de 20/0, houve 1 solicitação registrada.\n",
      "🔹 No ano de 20/1, houve 1 solicitação registrada.\n",
      "🔹 No ano de 21/1, houve 1 solicitação registrada.\n",
      "🔹 No ano de 22/0, houve 1 solicitação registrada.\n",
      "🔹 No ano de 24/0, houve 1 solicitação registrada.\n",
      "🔹 No ano de 25/1, houve 2 solicitações registradas.\n",
      "🔹 No ano de 26/0, houve 1 solicitação registrada.\n",
      "🔹 No ano de 27/0, houve 4 solicitações registradas.\n",
      "🔹 No ano de 27/1, houve 2 solicitações registradas.\n",
      "🔹 No ano de 28/0, houve 3 solicitações registradas.\n",
      "🔹 No ano de 29/0, houve 2 solicitações registradas.\n"
     ]
    }
   ],
   "source": [
    "import pandas as pd  # biblioteca para manipulação de dados\n",
    "\n",
    "# ==========================================\n",
    "# ITEM 2 – Top 3 status mais frequentes\n",
    "# ==========================================\n",
    "\n",
    "# 1) Transformar a lista de dicionários em DataFrame\n",
    "df = pd.DataFrame(data_json['items'])  # substitua data_json['items'] pela variável que você usou no item 1\n",
    "\n",
    "# 2) Contar a frequência de cada status\n",
    "status_counts = df['status'].value_counts()\n",
    "\n",
    "# 3) Selecionar os três mais frequentes\n",
    "top3_status = status_counts.head(3)\n",
    "\n",
    "print(\"✅ ITEM 2 – Top 3 status mais frequentes:\\n\")\n",
    "for status, freq in top3_status.items():\n",
    "    if freq == 1:\n",
    "        print(f\"🔹 Status: '{status}' → {freq} ocorrência\")\n",
    "    else:\n",
    "        print(f\"🔹 Status: '{status}' → {freq} ocorrências\")\n",
    "print(\"\\n\" + \"=\"*50 + \"\\n\")\n",
    "\n",
    "# ==========================================\n",
    "# ITEM 3 – Criar coluna com ano do status\n",
    "# ==========================================\n",
    "\n",
    "# 1) Converter a coluna data_status para string\n",
    "df['data_status'] = df['data_status'].astype(str)\n",
    "\n",
    "# 2) Extrair apenas o ano (primeiros 4 caracteres)\n",
    "df['ano_status'] = df['data_status'].str.slice(0, 4)\n",
    "\n",
    "# 3) Contar frequência de cada ano\n",
    "ano_counts = df['ano_status'].value_counts().sort_index()\n",
    "\n",
    "print(\"✅ ITEM 3 – Coluna 'ano_status' criada com sucesso!\")\n",
    "print(\"Visualização das primeiras linhas do DataFrame:\")\n",
    "print(df[['data_status', 'ano_status']].head())\n",
    "print(\"\\n\" + \"=\"*50 + \"\\n\")\n",
    "\n",
    "# ==========================================\n",
    "# ITEM 4 – Frequência de solicitações por ano (texto)\n",
    "# ==========================================\n",
    "\n",
    "print(\"✅ ITEM 4 – Frequência de solicitações por ano:\\n\")\n",
    "for ano, freq in ano_counts.items():\n",
    "    if freq == 1:\n",
    "        print(f\"🔹 No ano de {ano}, houve {freq} solicitação registrada.\")\n",
    "    else:\n",
    "        print(f\"🔹 No ano de {ano}, houve {freq} solicitações registradas.\")\n"
   ]
  },
  {
   "cell_type": "markdown",
   "metadata": {},
   "source": [
    "FIM TAREFA 01"
   ]
  },
  {
   "cell_type": "markdown",
   "metadata": {},
   "source": [
    "TAREFA 2"
   ]
  },
  {
   "cell_type": "markdown",
   "metadata": {},
   "source": [
    "####  2) Melhorando a interação com o API\n",
    "Observe dois URLs de consultas diferentes, por exemplo o URL utilizado em aula, e o URL feito no exercício anterior. Compare-os e observe as diferenças.\n",
    "\n",
    "1. Faça uma função em Python que recebe como argumento o UF da consulta e o tipo de interessado (```'Estado'```ou ```Município```), e que devolve os dados da consulta no formato *DataFrame*.\n",
    "2. Quantas solicitações para o Estado podem ser consultadas para Minas Gerais com *status* em 'Arquivado por decurso de prazo' estão registradas?\n",
    "3. Qual é o município da Bahia com mais solicitações deferidas?\n",
    "4. Salve um arquivo .csv com os dados de solicitações da Bahia, com interessado = 'Estado'"
   ]
  },
  {
   "cell_type": "code",
   "execution_count": null,
   "metadata": {},
   "outputs": [],
   "source": [
    "#1) seu código aqui"
   ]
  },
  {
   "cell_type": "code",
   "execution_count": null,
   "metadata": {},
   "outputs": [],
   "source": [
    "# 2) Seu código aqui"
   ]
  },
  {
   "cell_type": "code",
   "execution_count": null,
   "metadata": {},
   "outputs": [],
   "source": [
    "# 3) Seu código aqui"
   ]
  },
  {
   "cell_type": "code",
   "execution_count": null,
   "metadata": {},
   "outputs": [],
   "source": [
    "# 4) Seu código aqui"
   ]
  },
  {
   "cell_type": "markdown",
   "metadata": {},
   "source": [
    "RESOLVENDO TAREFA 2\n",
    "\n",
    "2) Melhorando a interação com o API\n",
    "Observe dois URLs de consultas diferentes, por exemplo o URL utilizado em aula, e o URL feito no exercício anterior. Compare-os e observe as diferenças."
   ]
  },
  {
   "cell_type": "markdown",
   "metadata": {},
   "source": [
    "RESOLVENDO ITEM 1 - TAREFA 2\n",
    "\n",
    "1.Faça uma função em Python que recebe como argumento o UF da consulta e o tipo de interessado ('Estado'ou Município), e que devolve os dados da consulta no formato DataFrame."
   ]
  },
  {
   "cell_type": "code",
   "execution_count": 16,
   "metadata": {},
   "outputs": [],
   "source": [
    "import requests\n",
    "import pandas as pd\n",
    "\n",
    "def buscar_pvl(uf: str, tipo_interessado: str) -> pd.DataFrame:\n",
    "    \"\"\"\n",
    "    Baixa os PVLs do Tesouro por UF e tipo de interessado ('Estado' ou 'Município')\n",
    "    e retorna um DataFrame com todos os registros (trata paginação do ORDS).\n",
    "\n",
    "    Ex.: buscar_pvl('RJ', 'Município')  |  buscar_pvl('SP', 'Estado')\n",
    "    \"\"\"\n",
    "    # --- Normalizações de entrada ---\n",
    "    uf = uf.strip().upper()                               # garante 'RJ', 'SP', etc.\n",
    "    tipo = tipo_interessado.strip().lower()               # facilita mapear variações\n",
    "\n",
    "    # Mapeia variações comuns para os dois valores aceitos pela API\n",
    "    if tipo in ['estado', 'estados']:\n",
    "        tipo_api = 'Estado'\n",
    "    elif tipo in ['municipio', 'município', 'municipios', 'municípios', 'municipal']:\n",
    "        tipo_api = 'Município'\n",
    "    else:\n",
    "        raise ValueError(\"tipo_interessado deve ser 'Estado' ou 'Município'.\")\n",
    "\n",
    "    # --- Endpoint base do ORDS (mesmo usado na tarefa 1, mudam só os parâmetros) ---\n",
    "    base_url = \"http://apidatalake.tesouro.gov.br/ords/sadipem/tt/pvl\"\n",
    "\n",
    "    # Colecionador de páginas\n",
    "    todos_itens = []\n",
    "    offset = 0\n",
    "\n",
    "    # Alguns ORDS aceitam 'limit' e respondem com 'hasMore' e 'offset'\n",
    "    # Vamos pedir bastante por página para reduzir voltas.\n",
    "    params = {\n",
    "        \"uf\": uf,\n",
    "        \"tipo_interessado\": tipo_api,\n",
    "        \"limit\": 5000  # se o serviço ignorar, sem problemas\n",
    "    }\n",
    "\n",
    "    while True:\n",
    "        # Atualiza offset a cada rodada\n",
    "        params[\"offset\"] = offset\n",
    "\n",
    "        # Chamada HTTP (com timeout e checagem de erro)\n",
    "        resp = requests.get(base_url, params=params, timeout=30)\n",
    "        resp.raise_for_status()\n",
    "\n",
    "        # Converte para JSON e pega a página de itens\n",
    "        data = resp.json()\n",
    "        itens = data.get(\"items\", [])\n",
    "        todos_itens.extend(itens)\n",
    "\n",
    "        # Verifica se há mais páginas (padrão ORDS)\n",
    "        has_more = data.get(\"hasMore\", False)\n",
    "        if not has_more:\n",
    "            break\n",
    "\n",
    "        # Avança o offset: usa o offset retornado + quantos itens já vieram\n",
    "        offset = data.get(\"offset\", offset) + len(itens)\n",
    "\n",
    "    # Se não vier nada, devolve DF vazio\n",
    "    if not todos_itens:\n",
    "        return pd.DataFrame()\n",
    "\n",
    "    # Constrói o DataFrame final\n",
    "    df = pd.DataFrame(todos_itens)\n",
    "\n",
    "    # Conversões úteis (se existirem essas colunas)\n",
    "    for col in [\"data_status\", \"data_protocolo\"]:\n",
    "        if col in df.columns:\n",
    "            df[col] = pd.to_datetime(df[col], errors=\"coerce\")\n",
    "\n",
    "    return df\n"
   ]
  },
  {
   "cell_type": "code",
   "execution_count": 17,
   "metadata": {},
   "outputs": [
    {
     "name": "stderr",
     "output_type": "stream",
     "text": [
      "C:\\Users\\DELL\\AppData\\Local\\Temp\\ipykernel_34076\\3902334381.py:69: UserWarning: Parsing dates in %d/%m/%Y format when dayfirst=False (the default) was specified. Pass `dayfirst=True` or specify a format to silence this warning.\n",
      "  df[col] = pd.to_datetime(df[col], errors=\"coerce\")\n",
      "C:\\Users\\DELL\\AppData\\Local\\Temp\\ipykernel_34076\\3902334381.py:69: UserWarning: Parsing dates in %d/%m/%Y format when dayfirst=False (the default) was specified. Pass `dayfirst=True` or specify a format to silence this warning.\n",
      "  df[col] = pd.to_datetime(df[col], errors=\"coerce\")\n"
     ]
    },
    {
     "data": {
      "text/plain": [
       "status\n",
       "Encaminhado à PGFN com manifestação técnica favorável    61\n",
       "Deferido                                                 35\n",
       "Arquivado a pedido                                        3\n",
       "Arquivado                                                 2\n",
       "Name: count, dtype: int64"
      ]
     },
     "execution_count": 17,
     "metadata": {},
     "output_type": "execute_result"
    }
   ],
   "source": [
    "#usando a função\n",
    "df_rj_municipio = buscar_pvl('RJ', 'Município')\n",
    "df_sp_estado    = buscar_pvl('SP', 'Estado')\n",
    "\n",
    "df_rj_municipio.head()   # dá uma olhada\n",
    "df_sp_estado['status'].value_counts()  # exemplo de análise\n"
   ]
  },
  {
   "cell_type": "markdown",
   "metadata": {},
   "source": [
    "TAREFA 2 - ITEM 2.\n",
    "2.Quantas solicitações para o Estado podem ser consultadas para Minas Gerais com status em 'Arquivado por decurso de prazo' estão registradas?"
   ]
  },
  {
   "cell_type": "code",
   "execution_count": 18,
   "metadata": {},
   "outputs": [
    {
     "name": "stderr",
     "output_type": "stream",
     "text": [
      "C:\\Users\\DELL\\AppData\\Local\\Temp\\ipykernel_34076\\3902334381.py:69: UserWarning: Parsing dates in %d/%m/%Y format when dayfirst=False (the default) was specified. Pass `dayfirst=True` or specify a format to silence this warning.\n",
      "  df[col] = pd.to_datetime(df[col], errors=\"coerce\")\n"
     ]
    },
    {
     "name": "stdout",
     "output_type": "stream",
     "text": [
      "Total de solicitações (MG, Estado) com status 'Arquivado por decurso de prazo': 1\n"
     ]
    }
   ],
   "source": [
    "# 1) Baixa todos os PVLs de MG para tipo interessado = Estado\n",
    "df_mg_estado = buscar_pvl('MG', 'Estado')\n",
    "\n",
    "# 2) Normaliza e filtra pelo status exato \"Arquivado por decurso de prazo\"\n",
    "status_alvo = 'Arquivado por decurso de prazo'\n",
    "mask = (\n",
    "    df_mg_estado['status']\n",
    "      .fillna('')\n",
    "      .str.strip()\n",
    "      .str.casefold()\n",
    "      == status_alvo.casefold()\n",
    ")\n",
    "\n",
    "# 3) Conta quantas linhas atendem ao critério\n",
    "qtd_arquivado_prazo = mask.sum()\n",
    "\n",
    "print(\"Total de solicitações (MG, Estado) com status 'Arquivado por decurso de prazo':\", qtd_arquivado_prazo)\n",
    "\n",
    "# (opcional) conferir distribuição de status\n",
    "# print(df_mg_estado['status'].value_counts())\n"
   ]
  },
  {
   "cell_type": "code",
   "execution_count": 19,
   "metadata": {},
   "outputs": [
    {
     "data": {
      "text/html": [
       "<div>\n",
       "<style scoped>\n",
       "    .dataframe tbody tr th:only-of-type {\n",
       "        vertical-align: middle;\n",
       "    }\n",
       "\n",
       "    .dataframe tbody tr th {\n",
       "        vertical-align: top;\n",
       "    }\n",
       "\n",
       "    .dataframe thead th {\n",
       "        text-align: right;\n",
       "    }\n",
       "</style>\n",
       "<table border=\"1\" class=\"dataframe\">\n",
       "  <thead>\n",
       "    <tr style=\"text-align: right;\">\n",
       "      <th></th>\n",
       "      <th>id_pleito</th>\n",
       "      <th>status</th>\n",
       "      <th>data_status</th>\n",
       "      <th>interessado</th>\n",
       "      <th>tipo_operacao</th>\n",
       "    </tr>\n",
       "  </thead>\n",
       "  <tbody>\n",
       "    <tr>\n",
       "      <th>5</th>\n",
       "      <td>20534</td>\n",
       "      <td>Arquivado por decurso de prazo</td>\n",
       "      <td>2018-03-16</td>\n",
       "      <td>Minas Gerais</td>\n",
       "      <td>Operação contratual interna</td>\n",
       "    </tr>\n",
       "  </tbody>\n",
       "</table>\n",
       "</div>"
      ],
      "text/plain": [
       "   id_pleito                          status data_status   interessado  \\\n",
       "5      20534  Arquivado por decurso de prazo  2018-03-16  Minas Gerais   \n",
       "\n",
       "                 tipo_operacao  \n",
       "5  Operação contratual interna  "
      ]
     },
     "execution_count": 19,
     "metadata": {},
     "output_type": "execute_result"
    }
   ],
   "source": [
    "df_mg_estado.loc[mask, ['id_pleito','status','data_status','interessado','tipo_operacao']].head()\n"
   ]
  },
  {
   "cell_type": "markdown",
   "metadata": {},
   "source": [
    "fim item 2"
   ]
  },
  {
   "cell_type": "markdown",
   "metadata": {},
   "source": [
    "ITEM 3 - TAREFA 2\n",
    "3.Qual é o município da Bahia com mais solicitações deferidas?"
   ]
  },
  {
   "cell_type": "code",
   "execution_count": 20,
   "metadata": {},
   "outputs": [
    {
     "name": "stdout",
     "output_type": "stream",
     "text": [
      "🏆 Município da Bahia com mais solicitações deferidas: Luís Eduardo Magalhães\n",
      "📊 Quantidade de solicitações deferidas: 16\n",
      "\n",
      "Top 5 municípios com mais solicitações deferidas na BA:\n",
      "interessado\n",
      "Luís Eduardo Magalhães    16\n",
      "Lauro de Freitas          12\n",
      "Vitória da Conquista      12\n",
      "Camaçari                  10\n",
      "Barreiras                 10\n",
      "Name: count, dtype: int64\n"
     ]
    }
   ],
   "source": [
    "# 1) Baixar os dados de municípios da Bahia\n",
    "df_ba_municipio = buscar_pvl('BA', 'Município')\n",
    "\n",
    "# 2) Filtrar apenas os registros com status = 'Deferido'\n",
    "mask_deferido = (\n",
    "    df_ba_municipio['status']\n",
    "      .fillna('')\n",
    "      .str.strip()\n",
    "      .str.casefold()\n",
    "      == 'deferido'\n",
    ")\n",
    "\n",
    "df_deferidos = df_ba_municipio.loc[mask_deferido]\n",
    "\n",
    "# 3) Contar quantos registros cada município tem e ordenar do maior para o menor\n",
    "municipio_counts = df_deferidos['interessado'].value_counts()\n",
    "\n",
    "# 4) Selecionar o município com mais solicitações deferidas\n",
    "municipio_top = municipio_counts.idxmax()\n",
    "qtd_top = municipio_counts.max()\n",
    "\n",
    "print(f\"🏆 Município da Bahia com mais solicitações deferidas: {municipio_top}\")\n",
    "print(f\"📊 Quantidade de solicitações deferidas: {qtd_top}\")\n",
    "\n",
    "# (opcional) Mostrar os 5 primeiros para comparação\n",
    "print(\"\\nTop 5 municípios com mais solicitações deferidas na BA:\")\n",
    "print(municipio_counts.head())\n"
   ]
  },
  {
   "cell_type": "markdown",
   "metadata": {},
   "source": [
    "fim item 3 "
   ]
  },
  {
   "cell_type": "markdown",
   "metadata": {},
   "source": [
    "ITEM 4- TAREFA 2\n",
    "4.Salve um arquivo .csv com os dados de solicitações da Bahia, com interessado = 'Estado'"
   ]
  },
  {
   "cell_type": "code",
   "execution_count": 21,
   "metadata": {},
   "outputs": [
    {
     "name": "stdout",
     "output_type": "stream",
     "text": [
      "✅ Arquivo 'solicitacoes_bahia_estado.csv' salvo com sucesso!\n",
      "Total de registros salvos: 112\n"
     ]
    }
   ],
   "source": [
    "# 1) Buscar todos os PVLs da Bahia para interessado = Estado\n",
    "df_ba_estado = buscar_pvl('BA', 'Estado')\n",
    "\n",
    "# 2) Salvar em um arquivo CSV\n",
    "df_ba_estado.to_csv('solicitacoes_bahia_estado.csv', index=False, encoding='utf-8-sig')\n",
    "\n",
    "print(\"✅ Arquivo 'solicitacoes_bahia_estado.csv' salvo com sucesso!\")\n",
    "print(f\"Total de registros salvos: {len(df_ba_estado)}\")\n"
   ]
  },
  {
   "cell_type": "markdown",
   "metadata": {},
   "source": [
    "fim - item 4\n",
    "fim tarefa 2"
   ]
  }
 ],
 "metadata": {
  "kernelspec": {
   "display_name": "Python 3 (ipykernel)",
   "language": "python",
   "name": "python3"
  },
  "language_info": {
   "codemirror_mode": {
    "name": "ipython",
    "version": 3
   },
   "file_extension": ".py",
   "mimetype": "text/x-python",
   "name": "python",
   "nbconvert_exporter": "python",
   "pygments_lexer": "ipython3",
   "version": "3.11.5"
  }
 },
 "nbformat": 4,
 "nbformat_minor": 4
}
